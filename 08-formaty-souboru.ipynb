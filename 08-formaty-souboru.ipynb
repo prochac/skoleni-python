{
 "cells": [
  {
   "cell_type": "markdown",
   "metadata": {
    "slideshow": {
     "slide_type": "slide"
    }
   },
   "source": [
    "# CSV\n",
    "\n",
    "= Comma Separated Value"
   ]
  },
  {
   "cell_type": "code",
   "execution_count": null,
   "metadata": {
    "collapsed": true,
    "slideshow": {
     "slide_type": "subslide"
    }
   },
   "outputs": [],
   "source": [
    "import csv\n",
    "from pprint import pprint"
   ]
  },
  {
   "cell_type": "code",
   "execution_count": null,
   "metadata": {
    "collapsed": false,
    "slideshow": {
     "slide_type": "fragment"
    }
   },
   "outputs": [],
   "source": [
    "# načtení dat\n",
    "with open(\"data/menu.csv\", mode=\"r\", encoding=\"utf-8\") as f:\n",
    "    for radka in csv.reader(f): # delimiter\n",
    "        print(radka)"
   ]
  },
  {
   "cell_type": "code",
   "execution_count": null,
   "metadata": {
    "collapsed": false,
    "slideshow": {
     "slide_type": "subslide"
    }
   },
   "outputs": [],
   "source": [
    "# načtení do slovníku\n",
    "with open(\"data/menu.csv\", mode=\"r\", encoding=\"utf-8\") as f:\n",
    "    for radka in csv.DictReader(f):  # fieldnames\n",
    "        pprint(radka)"
   ]
  },
  {
   "cell_type": "code",
   "execution_count": null,
   "metadata": {
    "collapsed": false,
    "slideshow": {
     "slide_type": "subslide"
    }
   },
   "outputs": [],
   "source": [
    "# list\n",
    "data = [\n",
    "    [234, 12, 425],\n",
    "    [212, 553, 34],\n",
    "    [\"zrada, \", \"text\", \"s carkou\"],\n",
    "]\n",
    "\n",
    "# generátor\n",
    "dalsi_data = (\n",
    "    (x ** 2 for x in range(y, y + 3))\n",
    "    for y in range(5)\n",
    ")\n",
    "\n",
    "# zápis\n",
    "with open(\"data/write.csv\", mode=\"w\", encoding=\"utf-8\") as f:\n",
    "    writer = csv.writer(f)\n",
    "    writer.writerows(data)\n",
    "    writer.writerows(dalsi_data)"
   ]
  },
  {
   "cell_type": "markdown",
   "metadata": {
    "slideshow": {
     "slide_type": "slide"
    }
   },
   "source": [
    "# JSON\n",
    "\n",
    "= JavaScript Object Notation"
   ]
  },
  {
   "cell_type": "code",
   "execution_count": null,
   "metadata": {
    "collapsed": true,
    "slideshow": {
     "slide_type": "subslide"
    }
   },
   "outputs": [],
   "source": [
    "import json"
   ]
  },
  {
   "cell_type": "code",
   "execution_count": null,
   "metadata": {
    "collapsed": false,
    "slideshow": {
     "slide_type": "fragment"
    }
   },
   "outputs": [],
   "source": [
    "# čtení\n",
    "with open(\"data/widget.json\", mode=\"r\", encoding=\"utf-8\") as f:\n",
    "    data = json.load(f)\n",
    "    \n",
    "print(type(data))\n",
    "pprint(data)"
   ]
  },
  {
   "cell_type": "code",
   "execution_count": null,
   "metadata": {
    "collapsed": false,
    "slideshow": {
     "slide_type": "subslide"
    }
   },
   "outputs": [],
   "source": [
    "# aktualizace\n",
    "data[\"widget\"][\"debug\"] = \"off\"\n",
    "data[\"widget\"][\"window\"] = {\n",
    "    \"height\": 640,\n",
    "    \"width\": 480,\n",
    "    \"name\": None,\n",
    "    \"title\": \"Ahoj!\",\n",
    "}"
   ]
  },
  {
   "cell_type": "code",
   "execution_count": null,
   "metadata": {
    "collapsed": false,
    "slideshow": {
     "slide_type": "fragment"
    }
   },
   "outputs": [],
   "source": [
    "# zápis\n",
    "with open(\"data/widget_write.json\", mode=\"w\", encoding=\"utf-8\") as f:\n",
    "    json.dump(data, f, indent=2)"
   ]
  },
  {
   "cell_type": "code",
   "execution_count": null,
   "metadata": {
    "collapsed": false,
    "slideshow": {
     "slide_type": "subslide"
    }
   },
   "outputs": [],
   "source": [
    "# manipulace s řetězci\n",
    "json.loads(\"{}\")\n",
    "json.dumps(dict())"
   ]
  },
  {
   "cell_type": "code",
   "execution_count": null,
   "metadata": {
    "collapsed": false,
    "slideshow": {
     "slide_type": "fragment"
    }
   },
   "outputs": [],
   "source": [
    "# chyby\n",
    "try:\n",
    "    json.loads(\"{\")\n",
    "except json.JSONDecodeError:\n",
    "    print(\"Nevalidní JSON.\")"
   ]
  },
  {
   "cell_type": "markdown",
   "metadata": {
    "slideshow": {
     "slide_type": "subslide"
    }
   },
   "source": [
    "Trik - formátování JSON souboru v konzoli:\n",
    "\n",
    "```bash\n",
    "cat data/widget.json | python -m json.tool\n",
    "```"
   ]
  },
  {
   "cell_type": "markdown",
   "metadata": {
    "slideshow": {
     "slide_type": "slide"
    }
   },
   "source": [
    "# XML\n",
    "\n",
    "= Extensible Markup Language"
   ]
  },
  {
   "cell_type": "markdown",
   "metadata": {
    "slideshow": {
     "slide_type": "fragment"
    }
   },
   "source": [
    "~~Tři~~ Dva základní přístupy:\n",
    "\n",
    "- ElementTree - [`xml.etree.ElementTree`](https://docs.python.org/3/library/xml.etree.elementtree.html).\n",
    "- ~~DOM - [`xml.dom`](https://docs.python.org/3/library/xml.dom.html) a [`xml.dom.minidom`](https://docs.python.org/3/library/xml.dom.minidom.html).~~\n",
    "- SAX - [`xml.sax`](https://docs.python.org/3/library/xml.sax.html) a [`xml.sax.handler`](https://docs.python.org/3/library/xml.sax.handler.html)"
   ]
  },
  {
   "cell_type": "markdown",
   "metadata": {
    "slideshow": {
     "slide_type": "subslide"
    }
   },
   "source": [
    "## ElementTree"
   ]
  },
  {
   "cell_type": "code",
   "execution_count": null,
   "metadata": {
    "collapsed": false,
    "slideshow": {
     "slide_type": "subslide"
    }
   },
   "outputs": [],
   "source": [
    "# čtení\n",
    "from xml.etree.ElementTree import parse\n",
    "\n",
    "# přečtení souboru\n",
    "with open(\"data/books.xml\", mode=\"r\", encoding=\"utf-8\") as f:\n",
    "    tree = parse(f)\n",
    "\n",
    "# projití elementů\n",
    "for book in tree.getroot():\n",
    "    id = book.attrib[\"id\"]\n",
    "    title = book.find(\"title\").text\n",
    "    print(id, title)"
   ]
  },
  {
   "cell_type": "code",
   "execution_count": null,
   "metadata": {
    "collapsed": false,
    "slideshow": {
     "slide_type": "subslide"
    }
   },
   "outputs": [],
   "source": [
    "# podpora XPath (omezená)\n",
    "tree.findall(r\"book[genre='Fantasy']\")"
   ]
  },
  {
   "cell_type": "code",
   "execution_count": null,
   "metadata": {
    "collapsed": false,
    "slideshow": {
     "slide_type": "fragment"
    }
   },
   "outputs": [],
   "source": [
    "# podpora generátorů\n",
    "[el.text for el in tree.iterfind(r\"book/title\")]"
   ]
  },
  {
   "cell_type": "code",
   "execution_count": null,
   "metadata": {
    "collapsed": false,
    "slideshow": {
     "slide_type": "subslide"
    }
   },
   "outputs": [],
   "source": [
    "# úpravy dat\n",
    "for book in tree.iter(\"book\"):\n",
    "    book.attrib[\"processed\"] = \"yes\"\n",
    "\n",
    "# zápis\n",
    "tree.write(\"data/books_processed.xml\", encoding=\"utf-8\")"
   ]
  },
  {
   "cell_type": "markdown",
   "metadata": {
    "slideshow": {
     "slide_type": "subslide"
    }
   },
   "source": [
    "## SAX"
   ]
  },
  {
   "cell_type": "code",
   "execution_count": null,
   "metadata": {
    "collapsed": true,
    "slideshow": {
     "slide_type": "subslide"
    }
   },
   "outputs": [],
   "source": [
    "from xml.sax import parse\n",
    "from xml.sax.handler import ContentHandler"
   ]
  },
  {
   "cell_type": "code",
   "execution_count": null,
   "metadata": {
    "collapsed": true,
    "slideshow": {
     "slide_type": "fragment"
    }
   },
   "outputs": [],
   "source": [
    "# vytvořím parser\n",
    "class GenreCollector(ContentHandler):\n",
    "\n",
    "    def __init__(self):\n",
    "        self.genres = set()\n",
    "        self._in_genre_tag = False\n",
    "        \n",
    "    def startElement(self, name, attrs):\n",
    "        if name == \"genre\":\n",
    "            self._in_genre_tag = True\n",
    "\n",
    "    def endElement(self, name):\n",
    "        if name == \"genre\":\n",
    "            self._in_genre_tag = False\n",
    "\n",
    "    def characters(self, data):\n",
    "        if self._in_genre_tag:\n",
    "            self.genres.add(data)"
   ]
  },
  {
   "cell_type": "code",
   "execution_count": null,
   "metadata": {
    "collapsed": false,
    "slideshow": {
     "slide_type": "subslide"
    }
   },
   "outputs": [],
   "source": [
    "# pustím ho na data\n",
    "with open(\"data/books.xml\", mode=\"r\", encoding=\"utf-8\") as books_file:\n",
    "    collector = GenreCollector()\n",
    "    parse(books_file, collector)\n",
    "    print(collector.genres)"
   ]
  },
  {
   "cell_type": "markdown",
   "metadata": {
    "slideshow": {
     "slide_type": "subslide"
    }
   },
   "source": [
    "Všechny zmiňované parsery obsahují:\n",
    "\n",
    "- pro práci s namespacovaným XML – suffix metody nebo parametr `NS`\n",
    "- metody pro načtení dokumentu z řetězce, ne ze souboru"
   ]
  },
  {
   "cell_type": "markdown",
   "metadata": {
    "slideshow": {
     "slide_type": "subslide"
    }
   },
   "source": [
    "## Zápis XML"
   ]
  },
  {
   "cell_type": "markdown",
   "metadata": {
    "slideshow": {
     "slide_type": "fragment"
    }
   },
   "source": [
    "Nebuďte masochisti, použijte [Jinju](http://jinja.pocoo.org/)."
   ]
  },
  {
   "cell_type": "code",
   "execution_count": null,
   "metadata": {
    "collapsed": true,
    "slideshow": {
     "slide_type": "subslide"
    }
   },
   "outputs": [],
   "source": [
    "# jinja2 není ve standardní knihovně\n",
    "from jinja2 import Template\n",
    "import datetime\n",
    "\n",
    "books = [\n",
    "    {\n",
    "        \"id\": 1,\n",
    "        \"author\": \"Me\",\n",
    "        \"title\": \"About me\",\n",
    "        \"genre\": \"Science\",\n",
    "        \"price\": 123.2456,\n",
    "        \"date\": datetime.date.today(),\n",
    "    },\n",
    "]"
   ]
  },
  {
   "cell_type": "code",
   "execution_count": null,
   "metadata": {
    "collapsed": false,
    "slideshow": {
     "slide_type": "subslide"
    }
   },
   "outputs": [],
   "source": [
    "# načtení šablony\n",
    "with open(\"data/books.j2\", mode=\"r\", encoding=\"utf-8\") as f:\n",
    "    template = Template(f.read())\n",
    "\n",
    "# vykreslení\n",
    "print(template.render(books=books))"
   ]
  },
  {
   "cell_type": "markdown",
   "metadata": {
    "slideshow": {
     "slide_type": "slide"
    }
   },
   "source": [
    "# YAML\n",
    "\n",
    "= YAML Ain't Markup Language"
   ]
  },
  {
   "cell_type": "code",
   "execution_count": null,
   "metadata": {
    "collapsed": false,
    "slideshow": {
     "slide_type": "subslide"
    }
   },
   "outputs": [],
   "source": [
    "# modul PyYaml není ve standardní knihovně\n",
    "import yaml"
   ]
  },
  {
   "cell_type": "code",
   "execution_count": null,
   "metadata": {
    "collapsed": false,
    "slideshow": {
     "slide_type": "fragment"
    }
   },
   "outputs": [],
   "source": [
    "# čtení\n",
    "with open(\"data/employees.yaml\", mode=\"r\", encoding=\"utf-8\") as f:\n",
    "    data = yaml.load(f)  # ošetřit yaml.YAMLError\n",
    "    \n",
    "print(type(data))\n",
    "pprint(data)"
   ]
  },
  {
   "cell_type": "code",
   "execution_count": null,
   "metadata": {
    "collapsed": true,
    "slideshow": {
     "slide_type": "subslide"
    }
   },
   "outputs": [],
   "source": [
    "# zápis\n",
    "with open(\"data/employees_write.yaml\", mode=\"w\", encoding=\"utf-8\") as f:\n",
    "    yaml.dump(data, f)"
   ]
  },
  {
   "cell_type": "code",
   "execution_count": null,
   "metadata": {
    "collapsed": false,
    "slideshow": {
     "slide_type": "fragment"
    }
   },
   "outputs": [],
   "source": [
    "# manipulace s řetězci - metody samy rozpoznají vstupní typ\n",
    "yaml.load(\"\"\"\n",
    "- jedna\n",
    "- dva\n",
    "- tři\n",
    "\"\"\")\n",
    "yaml.dump([\"jedna\", \"dva\", \"tři\"])"
   ]
  },
  {
   "cell_type": "markdown",
   "metadata": {
    "slideshow": {
     "slide_type": "slide"
    }
   },
   "source": [
    "# INI\n",
    "\n",
    "> The name \"INI file\" comes from the commonly used filename extension `.INI`, which stands for \"initialization\". Other common initialization file extensions are `.CFG` and `.conf`."
   ]
  },
  {
   "cell_type": "code",
   "execution_count": null,
   "metadata": {
    "collapsed": true,
    "slideshow": {
     "slide_type": "subslide"
    }
   },
   "outputs": [],
   "source": [
    "import configparser"
   ]
  },
  {
   "cell_type": "code",
   "execution_count": null,
   "metadata": {
    "collapsed": false,
    "slideshow": {
     "slide_type": "fragment"
    }
   },
   "outputs": [],
   "source": [
    "# čtení\n",
    "config = configparser.ConfigParser()\n",
    "config.read(\"data/config.ini\", encoding=\"utf-8\")\n",
    "\n",
    "for server in config.sections():\n",
    "    print(server, \" -- \", config[server][\"ForwardX11\"])"
   ]
  },
  {
   "cell_type": "code",
   "execution_count": null,
   "metadata": {
    "collapsed": false,
    "slideshow": {
     "slide_type": "fragment"
    }
   },
   "outputs": [],
   "source": [
    "# výchozí hodnoty\n",
    "config.defaults()"
   ]
  },
  {
   "cell_type": "code",
   "execution_count": null,
   "metadata": {
    "collapsed": false,
    "slideshow": {
     "slide_type": "subslide"
    }
   },
   "outputs": [],
   "source": [
    "# aktualizace konfigurace\n",
    "config[\"bitbucket.org\"][\"ForwardX11\"] = \"no\""
   ]
  },
  {
   "cell_type": "code",
   "execution_count": null,
   "metadata": {
    "collapsed": true,
    "slideshow": {
     "slide_type": "fragment"
    }
   },
   "outputs": [],
   "source": [
    "# zápis\n",
    "with open(\"data/config_updated.ini\", mode=\"w\", encoding=\"utf-8\") as f:\n",
    "    config.write(f)"
   ]
  },
  {
   "cell_type": "markdown",
   "metadata": {
    "slideshow": {
     "slide_type": "slide"
    }
   },
   "source": [
    "# Příklad\n",
    "\n",
    "- Převeďte soubor `data/books.xml` na JSON."
   ]
  },
  {
   "cell_type": "code",
   "execution_count": null,
   "metadata": {
    "collapsed": true,
    "slideshow": {
     "slide_type": "skip"
    }
   },
   "outputs": [],
   "source": [
    "import json\n",
    "\n",
    "# TODO"
   ]
  }
 ],
 "metadata": {
  "celltoolbar": "Slideshow",
  "kernelspec": {
   "display_name": "Python 3",
   "language": "python",
   "name": "python3"
  },
  "language_info": {
   "codemirror_mode": {
    "name": "ipython",
    "version": 3
   },
   "file_extension": ".py",
   "mimetype": "text/x-python",
   "name": "python",
   "nbconvert_exporter": "python",
   "pygments_lexer": "ipython3",
   "version": "3.5.2"
  }
 },
 "nbformat": 4,
 "nbformat_minor": 0
}
