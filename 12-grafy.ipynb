{
 "cells": [
  {
   "cell_type": "markdown",
   "metadata": {
    "collapsed": true,
    "pycharm": {
     "name": "#%% md\n"
    }
   },
   "source": [
    "# Grafy a zobrazení dat\n",
    "\n",
    "```\n",
    "pip install matplotlib\n",
    "```"
   ]
  },
  {
   "cell_type": "code",
   "execution_count": null,
   "metadata": {
    "pycharm": {
     "name": "#%%\n"
    }
   },
   "outputs": [],
   "source": [
    "# import knihovny\n",
    "from matplotlib import pyplot"
   ]
  },
  {
   "cell_type": "markdown",
   "metadata": {
    "pycharm": {
     "name": "#%% md\n"
    }
   },
   "source": [
    "## Lineární graf"
   ]
  },
  {
   "cell_type": "code",
   "execution_count": null,
   "metadata": {
    "pycharm": {
     "name": "#%%\n"
    }
   },
   "outputs": [],
   "source": [
    "# hodnoty pro osu X\n",
    "x = [5, 2, 9, 4, 7]\n",
    "\n",
    "# hodnoty pro osu Y\n",
    "y = [10, 5, 8, 4, 2]\n",
    "\n",
    "# Vykreslení grafu\n",
    "pyplot.plot(x, y)\n",
    "\n",
    "# Zobrazení grafu\n",
    "pyplot.show()"
   ]
  },
  {
   "cell_type": "markdown",
   "metadata": {},
   "source": [
    "## Sloupcový graf"
   ]
  },
  {
   "cell_type": "code",
   "execution_count": null,
   "metadata": {
    "pycharm": {
     "name": "#%%\n"
    }
   },
   "outputs": [],
   "source": [
    "# Vykreslení sloupcového grafu\n",
    "pyplot.bar(x, y)\n",
    "\n",
    "pyplot.show()"
   ]
  },
  {
   "cell_type": "markdown",
   "metadata": {},
   "source": [
    "## Bodový graf\n",
    "\n",
    "také korelační diagram"
   ]
  },
  {
   "cell_type": "code",
   "execution_count": null,
   "metadata": {
    "pycharm": {
     "name": "#%%\n"
    }
   },
   "outputs": [],
   "source": [
    "pyplot.scatter(x, y)\n",
    "\n",
    "pyplot.show()"
   ]
  },
  {
   "cell_type": "markdown",
   "metadata": {},
   "source": [
    "## Histogram\n",
    "\n",
    "zobrazuje četnost prvků"
   ]
  },
  {
   "cell_type": "code",
   "execution_count": null,
   "metadata": {
    "pycharm": {
     "name": "#%%\n"
    }
   },
   "outputs": [],
   "source": [
    "from random import randint\n",
    "\n",
    "hody_kostkou = []\n",
    "pocet_hodu = 1000\n",
    "\n",
    "for _ in range(pocet_hodu):\n",
    "    kostka_1 = randint(1, 6)\n",
    "    kostka_2 = randint(1, 6)\n",
    "    hody_kostkou.append(kostka_1 + kostka_2)\n",
    "\n",
    "pyplot.hist(hody_kostkou, bins=11)\n",
    "\n",
    "pyplot.show()"
   ]
  },
  {
   "cell_type": "markdown",
   "metadata": {},
   "source": [
    "## Kombinace více grafů\n",
    "\n",
    "2 grafy přes sebe"
   ]
  },
  {
   "cell_type": "code",
   "execution_count": null,
   "metadata": {
    "pycharm": {
     "name": "#%%\n"
    }
   },
   "outputs": [],
   "source": [
    "from math import radians, sin\n",
    "\n",
    "# range parametry: start,stop,step\n",
    "x = list(range(0, 370, 10))\n",
    "\n",
    "# Výpočet hodnoty sinus. Nutno převést na radiány.\n",
    "sin_y = [sin(radians(x_)) for x_ in x]\n",
    "\n",
    "# hranice grafu pro osu X\n",
    "pyplot.xlim([-5, 365])\n",
    "pyplot.xticks(list(range(0, 370, 30)))\n",
    "\n",
    "\n",
    "# vykresli jako červenou čáru s poloviční šířkou\n",
    "pyplot.plot(x, sin_y, \"r-\", linewidth=0.5)\n",
    "# vykresli jako modré kroužky\n",
    "pyplot.plot(x, sin_y, \"bo\")\n",
    "# pyplot.scatter(x, y,  facecolors='b', edgecolors='b')\n",
    "\n",
    "# Název grafu\n",
    "pyplot.title(\"Moje sinusoida\")\n",
    "\n",
    "# Název pro osu X\n",
    "pyplot.xlabel(\"Stupně [°]\")\n",
    "\n",
    "# Název pro osu Y\n",
    "pyplot.ylabel(\"Hodnosta sinus\")\n",
    "\n",
    "pyplot.show()"
   ]
  },
  {
   "cell_type": "markdown",
   "metadata": {},
   "source": [
    "## Skupiny grafů\n",
    "\n",
    "2 grafy pod sebou"
   ]
  },
  {
   "cell_type": "code",
   "execution_count": null,
   "metadata": {
    "pycharm": {
     "name": "#%%\n"
    }
   },
   "outputs": [],
   "source": [
    "from math import cos\n",
    "\n",
    "# Výpočet hodnoty sinus. Nutno převést na radiány.\n",
    "cos_y = [cos(radians(x_)) for x_ in x]\n",
    "\n",
    "# Započetí skupiny grafů a nastavení rozložení.\n",
    "pyplot.figure(1, tight_layout=True)\n",
    "\n",
    "# zahájení prvního grafu\n",
    "# souřadnice: počet řádeků, počet sloupeců, index grafu\n",
    "pyplot.subplot(2, 1, 1)\n",
    "pyplot.title(\"Moje sinusoida\")\n",
    "pyplot.plot(x, sin_y)\n",
    "\n",
    "# nastavení osy X pro první graf\n",
    "pyplot.xlim([-5, 365])\n",
    "pyplot.xticks(list(range(0, 370, 30)))\n",
    "\n",
    "# zahájení druhého grafu\n",
    "pyplot.subplot(2, 1, 2)\n",
    "pyplot.title(\"Moje cosinusoida\")\n",
    "pyplot.plot(x, cos_y)\n",
    "\n",
    "# nastavení osy X pro druhý graf\n",
    "pyplot.xlim([-5, 365])\n",
    "pyplot.xticks(list(range(0, 370, 30)))\n",
    "\n",
    "pyplot.show()\n"
   ]
  }
 ],
 "metadata": {
  "kernelspec": {
   "display_name": "Python 3 (ipykernel)",
   "language": "python",
   "name": "python3"
  },
  "language_info": {
   "codemirror_mode": {
    "name": "ipython",
    "version": 3
   },
   "file_extension": ".py",
   "mimetype": "text/x-python",
   "name": "python",
   "nbconvert_exporter": "python",
   "pygments_lexer": "ipython3",
   "version": "3.9.7"
  }
 },
 "nbformat": 4,
 "nbformat_minor": 1
}