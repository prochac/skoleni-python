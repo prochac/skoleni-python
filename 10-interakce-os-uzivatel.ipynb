{
 "cells": [
  {
   "cell_type": "code",
   "execution_count": null,
   "metadata": {
    "collapsed": true,
    "slideshow": {
     "slide_type": "slide"
    }
   },
   "outputs": [],
   "source": [
    "import sys"
   ]
  },
  {
   "cell_type": "code",
   "execution_count": null,
   "metadata": {
    "collapsed": false,
    "slideshow": {
     "slide_type": "subslide"
    }
   },
   "outputs": [],
   "source": [
    "# ukončení programu\n",
    "sys.exit()"
   ]
  },
  {
   "cell_type": "code",
   "execution_count": null,
   "metadata": {
    "collapsed": false,
    "slideshow": {
     "slide_type": "fragment"
    }
   },
   "outputs": [],
   "source": [
    "# argumenty skriptu\n",
    "sys.argv"
   ]
  },
  {
   "cell_type": "code",
   "execution_count": null,
   "metadata": {
    "collapsed": false,
    "slideshow": {
     "slide_type": "subslide"
    }
   },
   "outputs": [],
   "source": [
    "# proměnná cesty\n",
    "sys.path"
   ]
  },
  {
   "cell_type": "code",
   "execution_count": null,
   "metadata": {
    "collapsed": false,
    "slideshow": {
     "slide_type": "fragment"
    }
   },
   "outputs": [],
   "source": [
    "# platforma\n",
    "sys.platform"
   ]
  },
  {
   "cell_type": "markdown",
   "metadata": {
    "slideshow": {
     "slide_type": "slide"
    }
   },
   "source": [
    "# Úklid při ukončení programu"
   ]
  },
  {
   "cell_type": "code",
   "execution_count": null,
   "metadata": {
    "collapsed": true,
    "slideshow": {
     "slide_type": "-"
    }
   },
   "outputs": [],
   "source": [
    "import atexit"
   ]
  },
  {
   "cell_type": "code",
   "execution_count": null,
   "metadata": {
    "collapsed": false,
    "slideshow": {
     "slide_type": "subslide"
    }
   },
   "outputs": [],
   "source": [
    "def uklid(jmeno):\n",
    "    print(\"Uklízečka\", jmeno, \"se hlásí do služby!\")\n",
    "\n",
    "atexit.register(uklid, \"Jarmilka\")"
   ]
  },
  {
   "cell_type": "code",
   "execution_count": null,
   "metadata": {
    "collapsed": true,
    "slideshow": {
     "slide_type": "fragment"
    }
   },
   "outputs": [],
   "source": [
    "# elegantnější varianta (bez parametrů)\n",
    "@atexit.register\n",
    "def zamkni():\n",
    "    print(\"Cvak.\")"
   ]
  },
  {
   "cell_type": "markdown",
   "metadata": {
    "slideshow": {
     "slide_type": "slide"
    }
   },
   "source": [
    "# Logování"
   ]
  },
  {
   "cell_type": "code",
   "execution_count": null,
   "metadata": {
    "collapsed": true,
    "slideshow": {
     "slide_type": "-"
    }
   },
   "outputs": [],
   "source": [
    "import logging\n",
    "logging.basicConfig()"
   ]
  },
  {
   "cell_type": "code",
   "execution_count": null,
   "metadata": {
    "collapsed": false,
    "slideshow": {
     "slide_type": "subslide"
    }
   },
   "outputs": [],
   "source": [
    "# přes získaný logger budeme logovat\n",
    "log = logging.getLogger(__name__)"
   ]
  },
  {
   "cell_type": "code",
   "execution_count": null,
   "metadata": {
    "collapsed": false,
    "slideshow": {
     "slide_type": "fragment"
    }
   },
   "outputs": [],
   "source": [
    "log.debug(\"Dělám operaci X.\")\n",
    "log.info(\"Operace X provedena.\")\n",
    "log.warning(\"Operace X nemohla být provedena kvůli špatnému vstupu.\")\n",
    "log.error(\"Provádění operace X selhalo.\")\n",
    "log.critical(\"OMG WTF!\")"
   ]
  },
  {
   "cell_type": "code",
   "execution_count": null,
   "metadata": {
    "collapsed": false,
    "scrolled": true,
    "slideshow": {
     "slide_type": "subslide"
    }
   },
   "outputs": [],
   "source": [
    "# změna úrovně logování\n",
    "log.setLevel(logging.DEBUG)\n",
    "log.info(\"Hmm..\")"
   ]
  },
  {
   "cell_type": "code",
   "execution_count": null,
   "metadata": {
    "collapsed": false,
    "slideshow": {
     "slide_type": "fragment"
    }
   },
   "outputs": [],
   "source": [
    "# logování výjimek - funguje jako error\n",
    "try:\n",
    "   raise ValueError(\"špatná hodnota\")\n",
    "except ValueError:\n",
    "    log.exception(\"Nepovedlo se...\")"
   ]
  },
  {
   "cell_type": "markdown",
   "metadata": {
    "slideshow": {
     "slide_type": "subslide"
    }
   },
   "source": [
    "[Různé handlery](https://docs.python.org/3/howto/logging.html#useful-handlers).\n",
    "\n",
    "- do souboru\n",
    "- na konzoli\n",
    "- mailem\n",
    "- nikam\n",
    "\n",
    "[Filtry](https://docs.python.org/3/library/logging.html#filter-objects)."
   ]
  },
  {
   "cell_type": "markdown",
   "metadata": {
    "slideshow": {
     "slide_type": "slide"
    }
   },
   "source": [
    "# Datum a čas"
   ]
  },
  {
   "cell_type": "code",
   "execution_count": null,
   "metadata": {
    "collapsed": true,
    "slideshow": {
     "slide_type": "-"
    }
   },
   "outputs": [],
   "source": [
    "import time\n",
    "import datetime"
   ]
  },
  {
   "cell_type": "code",
   "execution_count": null,
   "metadata": {
    "collapsed": false,
    "slideshow": {
     "slide_type": "subslide"
    }
   },
   "outputs": [],
   "source": [
    "# dej si pauzu\n",
    "time.sleep(1)"
   ]
  },
  {
   "cell_type": "code",
   "execution_count": null,
   "metadata": {
    "collapsed": false,
    "slideshow": {
     "slide_type": "fragment"
    }
   },
   "outputs": [],
   "source": [
    "# časové razítko\n",
    "time.time()"
   ]
  },
  {
   "cell_type": "markdown",
   "metadata": {
    "slideshow": {
     "slide_type": "subslide"
    }
   },
   "source": [
    "- `datetime.date` = pouze datum\n",
    "- `datetime.time` = pouze čas\n",
    "- `datetime.datetime` = datum s časem\n",
    "- `datetime.timedelta` = časový interval"
   ]
  },
  {
   "cell_type": "code",
   "execution_count": null,
   "metadata": {
    "collapsed": false,
    "slideshow": {
     "slide_type": "fragment"
    }
   },
   "outputs": [],
   "source": [
    "silvestr = datetime.date(2016, 12, 31)\n",
    "poledne = datetime.time(12)\n",
    "ted = datetime.datetime.now()\n",
    "o_hodinu = datetime.timedelta(hours=1)"
   ]
  },
  {
   "cell_type": "code",
   "execution_count": null,
   "metadata": {
    "collapsed": false,
    "slideshow": {
     "slide_type": "subslide"
    }
   },
   "outputs": [],
   "source": [
    "# porovnání\n",
    "silvestr > datetime.date.today()"
   ]
  },
  {
   "cell_type": "code",
   "execution_count": null,
   "metadata": {
    "collapsed": false,
    "slideshow": {
     "slide_type": "fragment"
    }
   },
   "outputs": [],
   "source": [
    "# kombinace \n",
    "datetime.datetime.combine(silvestr, poledne)"
   ]
  },
  {
   "cell_type": "code",
   "execution_count": null,
   "metadata": {
    "collapsed": false,
    "slideshow": {
     "slide_type": "fragment"
    }
   },
   "outputs": [],
   "source": [
    "# posuny\n",
    "datetime.datetime.now() - o_hodinu - o_hodinu"
   ]
  },
  {
   "cell_type": "code",
   "execution_count": null,
   "metadata": {
    "collapsed": false,
    "slideshow": {
     "slide_type": "subslide"
    }
   },
   "outputs": [],
   "source": [
    "# výpis\n",
    "print(ted.year, ted.month, ted.second, sep=\" ---- \")\n",
    "print(\"{:%d.%m.%Y, %H:%M:%S}\".format(ted))"
   ]
  },
  {
   "cell_type": "code",
   "execution_count": null,
   "metadata": {
    "collapsed": false,
    "slideshow": {
     "slide_type": "fragment"
    }
   },
   "outputs": [],
   "source": [
    "# parsování času\n",
    "cas = \"26.07.2016, 22:37:11\"\n",
    "datetime.datetime.strptime(cas, \"%d.%m.%Y, %H:%M:%S\")"
   ]
  },
  {
   "cell_type": "markdown",
   "metadata": {
    "slideshow": {
     "slide_type": "slide"
    }
   },
   "source": [
    "# Parsování argumentů"
   ]
  },
  {
   "cell_type": "code",
   "execution_count": null,
   "metadata": {
    "collapsed": false,
    "slideshow": {
     "slide_type": "subslide"
    }
   },
   "outputs": [],
   "source": [
    "# NE\n",
    "import sys\n",
    "if sys.argv[1] == \"notebook\":\n",
    "    spustit_notebook()\n",
    "else:\n",
    "    print(\"nápověda...\")"
   ]
  },
  {
   "cell_type": "code",
   "execution_count": null,
   "metadata": {
    "collapsed": false,
    "slideshow": {
     "slide_type": "subslide"
    }
   },
   "outputs": [],
   "source": [
    "# lepší, ale zbytečně složité\n",
    "import argparse\n",
    "parser = argparse.ArgumentParser(description='Process some integers.')\n",
    "parser.add_argument('integers', metavar='N', type=int, nargs='+',\n",
    "                    help='an integer for the accumulator')\n",
    "parser.add_argument('--sum', dest='function', action='store_const',\n",
    "                    const=sum, default=max,\n",
    "                    help='sum the integers (default: find the max)')\n",
    "args = parser.parse_args([\"--sum\", \"1\", \"2\", \"4\"])\n",
    "print(args)"
   ]
  },
  {
   "cell_type": "markdown",
   "metadata": {
    "slideshow": {
     "slide_type": "slide"
    }
   },
   "source": [
    "## [Click](click.pocoo.org/6/)\n",
    "\n",
    "= Command Line Interface Creation Kit\n",
    "\n",
    "```bash\n",
    "pip3 install click\n",
    "```"
   ]
  },
  {
   "cell_type": "code",
   "execution_count": null,
   "metadata": {
    "collapsed": false,
    "slideshow": {
     "slide_type": "-"
    }
   },
   "outputs": [],
   "source": [
    "import click"
   ]
  },
  {
   "cell_type": "code",
   "execution_count": null,
   "metadata": {
    "collapsed": false,
    "slideshow": {
     "slide_type": "subslide"
    }
   },
   "outputs": [],
   "source": [
    "@click.command()\n",
    "@click.option(\"--count\", default=1, help=\"Number of greetings.\")\n",
    "@click.option(\"--name\", prompt=\"Your name\", help=\"The person to greet.\")\n",
    "def hello(count, name):\n",
    "    \"\"\"Greets NAME for a total of COUNT times.\"\"\"\n",
    "    for x in range(count):\n",
    "        print(\"Hello {}!\".format(name))\n",
    "\n",
    "\n",
    "# tohle není běžné\n",
    "sys.argv = \"./greeter.py --count=3 --name=David\".split()\n",
    "# sys.argv = \"./greeter.py --help\".split()\n",
    "# sys.argv = \"./greeter.py\".split()\n",
    "        \n",
    "if __name__ == \"__main__\":\n",
    "    hello()"
   ]
  },
  {
   "cell_type": "code",
   "execution_count": null,
   "metadata": {
    "collapsed": false,
    "slideshow": {
     "slide_type": "subslide"
    }
   },
   "outputs": [],
   "source": [
    "@click.group()\n",
    "def cli():\n",
    "    pass\n",
    "\n",
    "@click.command()\n",
    "def initdb():\n",
    "    click.echo(\"Initialized the database\")\n",
    "\n",
    "@click.command()\n",
    "def dropdb():\n",
    "    click.echo(\"Dropped the database\")\n",
    "\n",
    "cli.add_command(initdb)\n",
    "cli.add_command(dropdb)\n",
    "\n",
    "# tohle není běžné\n",
    "sys.argv = \"./db.py dropdb --help\".split()\n",
    "        \n",
    "if __name__ == \"__main__\":\n",
    "    cli()"
   ]
  },
  {
   "cell_type": "markdown",
   "metadata": {
    "slideshow": {
     "slide_type": "subslide"
    }
   },
   "source": [
    "\"Doplňkové\" možnosti `click`u:\n",
    "    \n",
    "- Printing to Stdout\n",
    "- ANSI Colors\n",
    "- Pager Support\n",
    "- Screen Clearing\n",
    "- Getting Characters from Terminal\n",
    "- Waiting for Key Press\n",
    "- Launching Editors\n",
    "- Launching Applications\n",
    "- Printing Filenames\n",
    "- Standard Streams\n",
    "- Intelligent File Opening\n",
    "- Finding Application Folders\n",
    "- Showing Progress Bars"
   ]
  },
  {
   "cell_type": "code",
   "execution_count": null,
   "metadata": {
    "collapsed": false,
    "slideshow": {
     "slide_type": "subslide"
    }
   },
   "outputs": [],
   "source": [
    "value = click.prompt(\"Please enter a valid integer\", type=int, default=10)\n",
    "print(value)"
   ]
  },
  {
   "cell_type": "markdown",
   "metadata": {
    "slideshow": {
     "slide_type": "slide"
    }
   },
   "source": [
    "# Curses"
   ]
  },
  {
   "cell_type": "markdown",
   "metadata": {
    "slideshow": {
     "slide_type": "fragment"
    }
   },
   "source": [
    "Nepoužívejte."
   ]
  },
  {
   "cell_type": "markdown",
   "metadata": {
    "slideshow": {
     "slide_type": "subslide"
    }
   },
   "source": [
    "## Urwid\n",
    "\n",
    "![Rozhraní](http://urwid.org/_images/tour2.png)"
   ]
  },
  {
   "cell_type": "markdown",
   "metadata": {
    "slideshow": {
     "slide_type": "subslide"
    }
   },
   "source": [
    "Objektový přístup, dobrá dokumentace. Není ve standardní knihovně.\n",
    "\n",
    "```bash\n",
    "pip3 install urwid\n",
    "```\n",
    "\n",
    "[Tutoriál](http://urwid.org/tutorial/index.html)."
   ]
  },
  {
   "cell_type": "markdown",
   "metadata": {
    "collapsed": true,
    "slideshow": {
     "slide_type": "slide"
    }
   },
   "source": [
    "# Příklad\n",
    "\n",
    "- Nainstalujte si `click`.\n",
    "- Napište program, který vypočte čas posunutý o X od aktuálního.\n",
    "- Dále se řiďte pokyny v šabloně."
   ]
  },
  {
   "cell_type": "code",
   "execution_count": null,
   "metadata": {
    "collapsed": false,
    "slideshow": {
     "slide_type": "subslide"
    }
   },
   "outputs": [],
   "source": [
    "import click\n",
    "import atexit\n",
    "\n",
    "# TODO vyrobit logger\n",
    "\n",
    "# TODO vyrobit funkci, která při ukončení programu zaloguje debug \"ukončuji program\"\n",
    "\n",
    "# TODO přidat click dekorátory\n",
    "def time_shift(days, hours, minutes):\n",
    "    # TODO zalogovat debug \"počítám čas\"\n",
    "    # TODO vypočítat posunutý čas\n",
    "    # TODO zalogovat info \"čas vypočten\"\n",
    "    pass\n",
    "\n",
    "if __name__ == \"__main__\":\n",
    "    time_shift()"
   ]
  }
 ],
 "metadata": {
  "kernelspec": {
   "display_name": "Python 3",
   "language": "python",
   "name": "python3"
  },
  "language_info": {
   "codemirror_mode": {
    "name": "ipython",
    "version": 3
   },
   "file_extension": ".py",
   "mimetype": "text/x-python",
   "name": "python",
   "nbconvert_exporter": "python",
   "pygments_lexer": "ipython3",
   "version": "3.5.2"
  }
 },
 "nbformat": 4,
 "nbformat_minor": 0
}