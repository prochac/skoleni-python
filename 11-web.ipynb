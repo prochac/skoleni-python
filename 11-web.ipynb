{
 "cells": [
  {
   "cell_type": "markdown",
   "metadata": {
    "slideshow": {
     "slide_type": "slide"
    }
   },
   "source": [
    "# Pracujeme s webem\n",
    "\n",
    "Aneb – co lze najít ve standardních knihovnách..."
   ]
  },
  {
   "cell_type": "markdown",
   "metadata": {
    "slideshow": {
     "slide_type": "subslide"
    }
   },
   "source": [
    "## HTTP server\n",
    "\n",
    "```\n",
    "python -m http.server\n",
    "```"
   ]
  },
  {
   "cell_type": "markdown",
   "metadata": {
    "slideshow": {
     "slide_type": "subslide"
    }
   },
   "source": [
    "## [XML-RPC](https://cs.wikipedia.org/wiki/XML-RPC) klient"
   ]
  },
  {
   "cell_type": "code",
   "execution_count": null,
   "metadata": {
    "collapsed": false,
    "slideshow": {
     "slide_type": "fragment"
    }
   },
   "outputs": [],
   "source": [
    "import xmlrpc.client  \n",
    "\n",
    "with xmlrpc.client.ServerProxy(\"http://www.advogato.org/XMLRPC\") as remote:\n",
    "    print(remote.test.capitalize(\"Hello World!\"))"
   ]
  },
  {
   "cell_type": "markdown",
   "metadata": {
    "slideshow": {
     "slide_type": "subslide"
    }
   },
   "source": [
    "Dnes nahrazován [SOAPem](https://cs.wikipedia.org/wiki/SOAP) = Simple Object Access Protocol.\n",
    "\n",
    "Láďa Hruška doporučuje: na SOAP použijte [Zeep](http://docs.python-zeep.org/en/latest/)."
   ]
  },
  {
   "cell_type": "markdown",
   "metadata": {
    "slideshow": {
     "slide_type": "subslide"
    }
   },
   "source": [
    "## Kódování"
   ]
  },
  {
   "cell_type": "code",
   "execution_count": null,
   "metadata": {
    "collapsed": true,
    "slideshow": {
     "slide_type": "-"
    }
   },
   "outputs": [],
   "source": [
    "import codecs"
   ]
  },
  {
   "cell_type": "code",
   "execution_count": null,
   "metadata": {
    "collapsed": false,
    "slideshow": {
     "slide_type": "fragment"
    }
   },
   "outputs": [],
   "source": [
    "# base64\n",
    "zakodovano = codecs.encode(b\"surova data\", \"base64\")\n",
    "print(zakodovano)\n",
    "codecs.decode(zakodovano, \"base64\")"
   ]
  },
  {
   "cell_type": "markdown",
   "metadata": {
    "slideshow": {
     "slide_type": "slide"
    }
   },
   "source": [
    "# Stahujeme webové stránky"
   ]
  },
  {
   "cell_type": "markdown",
   "metadata": {
    "slideshow": {
     "slide_type": "fragment"
    }
   },
   "source": [
    "Standardní modul `urllib.request` – NE.\n",
    "\n",
    "- problémy s kódováním\n",
    "- ukecaný\n",
    "- horší dokumentace"
   ]
  },
  {
   "cell_type": "markdown",
   "metadata": {
    "slideshow": {
     "slide_type": "subslide"
    }
   },
   "source": [
    "## [Requests](http://docs.python-requests.org/en/master/)\n",
    "\n",
    "```\n",
    "pip3 install requests\n",
    "```"
   ]
  },
  {
   "cell_type": "code",
   "execution_count": null,
   "metadata": {
    "collapsed": true,
    "slideshow": {
     "slide_type": "-"
    }
   },
   "outputs": [],
   "source": [
    "import requests"
   ]
  },
  {
   "cell_type": "code",
   "execution_count": null,
   "metadata": {
    "collapsed": false,
    "slideshow": {
     "slide_type": "subslide"
    }
   },
   "outputs": [],
   "source": [
    "# stažení XML vzorové EET zprávy\n",
    "url = \"https://www.etrzby.cz/assets/cs/prilohy/CZ00000019.v3.valid.v3.1.1.xml\"\n",
    "response = requests.get(url)\n",
    "print(response.text[:100])  # zkráceno\n",
    "\n",
    "# TODO parsování pomocí modulu xml.etree"
   ]
  },
  {
   "cell_type": "code",
   "execution_count": null,
   "metadata": {
    "collapsed": false,
    "slideshow": {
     "slide_type": "subslide"
    }
   },
   "outputs": [],
   "source": [
    "# stažení CSV rušení radarů\n",
    "response = requests.get(\"http://radar4ctu.bourky.cz/parse_ruseni.php\")\n",
    "print(response.text[:200])  # zkráceno\n",
    "\n",
    "# TODO parsování pomocí modulu csv, delimiter=\";\""
   ]
  },
  {
   "cell_type": "code",
   "execution_count": null,
   "metadata": {
    "collapsed": false,
    "slideshow": {
     "slide_type": "subslide"
    }
   },
   "outputs": [],
   "source": [
    "# JSON, parametry\n",
    "r = requests.get(\"https://httpbin.org/get\", params={\"non\": \"sense\"})\n",
    "r_dict = r.json()\n",
    "print(r_dict)\n",
    "r_dict[\"origin\"]"
   ]
  },
  {
   "cell_type": "code",
   "execution_count": null,
   "metadata": {
    "collapsed": false,
    "slideshow": {
     "slide_type": "subslide"
    }
   },
   "outputs": [],
   "source": [
    "# POST (DELETE, OPTION, ...)\n",
    "r = requests.post(\"http://httpbin.org/post\", data={\"key\": \"value\"})\n",
    "r.json()"
   ]
  },
  {
   "cell_type": "code",
   "execution_count": null,
   "metadata": {
    "collapsed": false,
    "slideshow": {
     "slide_type": "subslide"
    }
   },
   "outputs": [],
   "source": [
    "# stažení obrázku\n",
    "from datetime import date, time, datetime, timedelta\n",
    "\n",
    "# sestavit URL\n",
    "yesterday = date.today() - timedelta(days=1)\n",
    "yesterday_noon = datetime.combine(yesterday, time(12))\n",
    "url_suffix = \"pacz23.z_max3d.{:%Y%m%d.%H%M}.0.png\".format(yesterday_noon)\n",
    "url = \"http://portal.chmi.cz/files/portal/docs/meteo/rad/data_tr_png_1km/{}\".format(url_suffix)\n",
    "\n",
    "# HTTP dotaz\n",
    "r = requests.get(url, stream=True)\n",
    "\n",
    "# vyvolat výjimku pokud selze\n",
    "r.raise_for_status()\n",
    "\n",
    "# uložit do souboru\n",
    "with open(\"data/radar.png\", mode=\"wb\") as f:\n",
    "    for chunk in r.iter_content():\n",
    "        f.write(chunk)\n",
    "        \n",
    "print(\"downloaded radar image from {:%d.%m.%Y %H:%M}\".format(yesterday_noon))"
   ]
  },
  {
   "cell_type": "markdown",
   "source": [
    "# Příklad 1\n",
    "\n",
    "- Vypiště nějaké zajímavé informace z http://numbersapi.com/ (použijte `requests`).\n",
    "- Vyzkoušejte si doplnit do URL `?json` a zpracovat data (použijte argument `params` a metodu `json()`).\n",
    "- Vypněte si internet a zpracujte výjimky, které vzniknou.\n",
    "\n",
    "[Řešení k dispozici zde](https://github.com/tomasbedrich/web-scraping-in-python/blob/master/en/level0.py)."
   ],
   "metadata": {
    "collapsed": false
   }
  },
  {
   "cell_type": "code",
   "execution_count": null,
   "outputs": [],
   "source": [
    "import requests\n",
    "\n",
    "# TODO"
   ],
   "metadata": {
    "collapsed": false,
    "pycharm": {
     "name": "#%%\n"
    }
   }
  },
  {
   "cell_type": "markdown",
   "source": [
    "# Příklad 2\n",
    "\n",
    "Vypište kolik lidí ve vybraném okrese bylo obviněno ze přijetí úplatku.\n",
    "\n",
    "https://mapakriminality.cz/api/\n",
    "\n",
    "\"Crime type\" pro úplatky je 821\n",
    "\n",
    "[Řešení k dispozici zde](https://github.com/tomasbedrich/web-scraping-in-python/blob/master/cs/level0.py)."
   ],
   "metadata": {
    "collapsed": false
   }
  },
  {
   "cell_type": "code",
   "execution_count": null,
   "outputs": [],
   "source": [
    "import requests\n",
    "\n",
    "# TODO"
   ],
   "metadata": {
    "collapsed": false,
    "pycharm": {
     "name": "#%%\n"
    }
   }
  },
  {
   "cell_type": "markdown",
   "metadata": {
    "slideshow": {
     "slide_type": "slide"
    }
   },
   "source": [
    "# Parsujeme webové stránky"
   ]
  },
  {
   "cell_type": "markdown",
   "metadata": {
    "slideshow": {
     "slide_type": "subslide"
    }
   },
   "source": [
    "## [BeautifulSoup4](https://beautiful-soup-4.readthedocs.io/en/latest/#quick-start)\n",
    "\n",
    "```\n",
    "pip3 install bs4\n",
    "```\n",
    "\n",
    "**Metody:**\n",
    "\n",
    "- `find(html_atributy=\"hodnota\")`\n",
    "- `find_all(html_atributy=\"hodnota\")`\n",
    "- `select(\"css-selektor\")`\n",
    "\n",
    "**Parsery:**\n",
    "\n",
    "- `html.parser`, součástí Pythonu\n",
    "- `html5lib`, externí Python knihovna, shovívavý parser stejně jako prohlížeč\n",
    "- `lxml`, Externí knihovna implementovaná v jazyce C, velice rychlá\n",
    "- `lxml-xml`, stejné jako předchozí, jen pro parsovaní XML"
   ]
  },
  {
   "cell_type": "code",
   "execution_count": null,
   "metadata": {
    "collapsed": false,
    "slideshow": {
     "slide_type": "-"
    }
   },
   "outputs": [],
   "source": [
    "import bs4"
   ]
  },
  {
   "cell_type": "code",
   "execution_count": null,
   "metadata": {
    "collapsed": false,
    "slideshow": {
     "slide_type": "subslide"
    }
   },
   "outputs": [],
   "source": [
    "# stažení stránky\n",
    "r = requests.get(\"http://www.svatek.org/\")\n",
    "r.encoding = \"utf8\"\n",
    "\n",
    "# parsování HTML\n",
    "soup = bs4.BeautifulSoup(r.text, \"html.parser\")\n",
    "\n",
    "# hledání elementu\n",
    "svatek = soup.find(class_=\"svatek-head\").text\n",
    "print(svatek)"
   ]
  },
  {
   "cell_type": "markdown",
   "metadata": {
    "slideshow": {
     "slide_type": "slide"
    }
   },
   "source": [
    "# Příklad 1\n",
    "\n",
    "Stáhněte nejnovějších 5 obrázků z archivu [NASA Astronomy Picture of the Day](http://apod.nasa.gov/apod/archivepix.html).\n",
    "\n",
    "[Řešení k dispozici zde](https://github.com/tomasbedrich/web-scraping-in-python/blob/master/en/level1.py)."
   ]
  },
  {
   "cell_type": "code",
   "execution_count": null,
   "outputs": [],
   "source": [
    "import bs4\n",
    "import requests\n",
    "\n",
    "# TODO"
   ],
   "metadata": {
    "collapsed": false,
    "pycharm": {
     "name": "#%%\n"
    }
   }
  },
  {
   "cell_type": "markdown",
   "source": [
    "# Příklad 2\n",
    "\n",
    "Uložte [přednášející na LinuxDays](https://www.linuxdays.cz/2015/lide/) do CSV a JSONu\n",
    "\n",
    "[Řešení k dispozici zde](https://github.com/tomasbedrich/web-scraping-in-python/blob/master/cs/level1.py)."
   ],
   "metadata": {
    "collapsed": false,
    "pycharm": {
     "name": "#%% md\n"
    }
   }
  },
  {
   "cell_type": "code",
   "execution_count": null,
   "outputs": [],
   "source": [
    "import bs4\n",
    "import requests\n",
    "\n",
    "# TODO"
   ],
   "metadata": {
    "collapsed": false,
    "pycharm": {
     "name": "#%%\n"
    }
   }
  }
 ],
 "metadata": {
  "kernelspec": {
   "display_name": "Python 3",
   "language": "python",
   "name": "python3"
  },
  "language_info": {
   "codemirror_mode": {
    "name": "ipython",
    "version": 3
   },
   "file_extension": ".py",
   "mimetype": "text/x-python",
   "name": "python",
   "nbconvert_exporter": "python",
   "pygments_lexer": "ipython3",
   "version": "3.5.2"
  }
 },
 "nbformat": 4,
 "nbformat_minor": 0
}