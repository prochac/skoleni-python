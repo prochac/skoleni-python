{
 "cells": [
  {
   "cell_type": "markdown",
   "metadata": {
    "collapsed": true,
    "pycharm": {
     "name": "#%% md\n"
    }
   },
   "source": [
    "# Webový server\n",
    "\n",
    "Existuje neskutečné množství knihoven a frameworků.\n",
    "\n",
    "Několik z nich:\n",
    "\n",
    "- Django, de-facto standard pro weby\n",
    "- Flask, minimalistický framework\n",
    "- Falcon, výkonný framework pro webová API\n",
    "- AIOHTTP, HTTP client a server využívající asynchronní Python\n",
    "- ... a mnoho dalších\n",
    "\n",
    "Flask je od stejných autorů jako je CLI knihovna Click a má podobné rozhraní.\n",
    "\n",
    "```\n",
    "pip install Flask\n",
    "```"
   ]
  },
  {
   "cell_type": "code",
   "execution_count": null,
   "outputs": [],
   "source": [
    "from flask import Flask"
   ],
   "metadata": {
    "collapsed": false,
    "pycharm": {
     "name": "#%%\n"
    }
   }
  },
  {
   "cell_type": "code",
   "execution_count": null,
   "outputs": [],
   "source": [
    "app = Flask(__name__)\n",
    "\n",
    "\n",
    "@app.route(\"/\")\n",
    "def hello():\n",
    "    return \"Hello, World!\"\n",
    "\n",
    "# spustí webový server na portu 8080\n",
    "# Nefunguje v interaktivním Pythonu\n",
    "#app.run(port=8080)"
   ],
   "metadata": {
    "collapsed": false,
    "pycharm": {
     "name": "#%%\n"
    }
   }
  },
  {
   "cell_type": "markdown",
   "source": [
    "[Dokumentace](https://flask.palletsprojects.com/)\n"
   ],
   "metadata": {
    "collapsed": false,
    "pycharm": {
     "name": "#%% md\n"
    }
   }
  },
  {
   "cell_type": "markdown",
   "source": [
    "# Šablonovací jazyk Jinja2\n",
    "\n",
    "```\n",
    "pip install Jinja2\n",
    "```"
   ],
   "metadata": {
    "collapsed": false,
    "pycharm": {
     "name": "#%% md\n"
    }
   }
  },
  {
   "cell_type": "code",
   "execution_count": null,
   "outputs": [],
   "source": [
    "import jinja2"
   ],
   "metadata": {
    "collapsed": false,
    "pycharm": {
     "name": "#%%\n"
    }
   }
  },
  {
   "cell_type": "code",
   "execution_count": null,
   "outputs": [],
   "source": [
    "temp = jinja2.Template(\"Ahoj, já jsem {{ jmeno }}.\")\n",
    "print(temp.render({\"jmeno\": \"Tomáš\"}))"
   ],
   "metadata": {
    "collapsed": false,
    "pycharm": {
     "name": "#%%\n"
    }
   }
  },
  {
   "cell_type": "code",
   "execution_count": null,
   "outputs": [],
   "source": [
    "temp = jinja2.Template(\"\"\"\n",
    "{#- Tohle je komentář #}\n",
    "Nemíchejte {% for x in seznam -%}\n",
    " {{- x -}} {% if loop.index == 1 %} a {% endif -%}\n",
    "{% endfor %}\n",
    "\"\"\")\n",
    "print(temp.render({\"seznam\": [\"jabka\", \"hrušky\"]}))"
   ],
   "metadata": {
    "collapsed": false,
    "pycharm": {
     "name": "#%%\n"
    }
   }
  },
  {
   "cell_type": "markdown",
   "source": [
    "[Dokumentace](https://jinja.palletsprojects.com/en/3.0.x/templates/)"
   ],
   "metadata": {
    "collapsed": false,
    "pycharm": {
     "name": "#%% md\n"
    }
   }
  }
 ],
 "metadata": {
  "kernelspec": {
   "display_name": "Python 3",
   "language": "python",
   "name": "python3"
  },
  "language_info": {
   "codemirror_mode": {
    "name": "ipython",
    "version": 2
   },
   "file_extension": ".py",
   "mimetype": "text/x-python",
   "name": "python",
   "nbconvert_exporter": "python",
   "pygments_lexer": "ipython2",
   "version": "2.7.6"
  }
 },
 "nbformat": 4,
 "nbformat_minor": 0
}